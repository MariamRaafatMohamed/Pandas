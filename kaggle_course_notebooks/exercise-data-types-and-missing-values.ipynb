{
 "cells": [
  {
   "cell_type": "markdown",
   "id": "de597a53",
   "metadata": {
    "papermill": {
     "duration": 0.005326,
     "end_time": "2025-07-18T03:13:06.238511",
     "exception": false,
     "start_time": "2025-07-18T03:13:06.233185",
     "status": "completed"
    },
    "tags": []
   },
   "source": [
    "**This notebook is an exercise in the [Pandas](https://www.kaggle.com/learn/pandas) course.  You can reference the tutorial at [this link](https://www.kaggle.com/residentmario/data-types-and-missing-values).**\n",
    "\n",
    "---\n"
   ]
  },
  {
   "cell_type": "markdown",
   "id": "af73f53f",
   "metadata": {
    "papermill": {
     "duration": 0.004063,
     "end_time": "2025-07-18T03:13:06.246927",
     "exception": false,
     "start_time": "2025-07-18T03:13:06.242864",
     "status": "completed"
    },
    "tags": []
   },
   "source": [
    "# Introduction\n",
    "\n",
    "Run the following cell to load your data and some utility functions."
   ]
  },
  {
   "cell_type": "code",
   "execution_count": 1,
   "id": "833f569b",
   "metadata": {
    "execution": {
     "iopub.execute_input": "2025-07-18T03:13:06.255372Z",
     "iopub.status.busy": "2025-07-18T03:13:06.254998Z",
     "iopub.status.idle": "2025-07-18T03:13:11.895049Z",
     "shell.execute_reply": "2025-07-18T03:13:11.894076Z"
    },
    "papermill": {
     "duration": 5.646403,
     "end_time": "2025-07-18T03:13:11.896951",
     "exception": false,
     "start_time": "2025-07-18T03:13:06.250548",
     "status": "completed"
    },
    "tags": []
   },
   "outputs": [
    {
     "name": "stdout",
     "output_type": "stream",
     "text": [
      "Setup complete.\n"
     ]
    }
   ],
   "source": [
    "import pandas as pd\n",
    "\n",
    "reviews = pd.read_csv(\"../input/wine-reviews/winemag-data-130k-v2.csv\", index_col=0)\n",
    "\n",
    "from learntools.core import binder; binder.bind(globals())\n",
    "from learntools.pandas.data_types_and_missing_data import *\n",
    "print(\"Setup complete.\")"
   ]
  },
  {
   "cell_type": "markdown",
   "id": "2eef6908",
   "metadata": {
    "papermill": {
     "duration": 0.003429,
     "end_time": "2025-07-18T03:13:11.904236",
     "exception": false,
     "start_time": "2025-07-18T03:13:11.900807",
     "status": "completed"
    },
    "tags": []
   },
   "source": [
    "# Exercises"
   ]
  },
  {
   "cell_type": "markdown",
   "id": "de5a03d1",
   "metadata": {
    "papermill": {
     "duration": 0.003284,
     "end_time": "2025-07-18T03:13:11.911171",
     "exception": false,
     "start_time": "2025-07-18T03:13:11.907887",
     "status": "completed"
    },
    "tags": []
   },
   "source": [
    "## 1. \n",
    "What is the data type of the `points` column in the dataset?"
   ]
  },
  {
   "cell_type": "code",
   "execution_count": 2,
   "id": "ea7d783c",
   "metadata": {
    "execution": {
     "iopub.execute_input": "2025-07-18T03:13:11.921169Z",
     "iopub.status.busy": "2025-07-18T03:13:11.920788Z",
     "iopub.status.idle": "2025-07-18T03:13:11.931031Z",
     "shell.execute_reply": "2025-07-18T03:13:11.930082Z"
    },
    "papermill": {
     "duration": 0.017485,
     "end_time": "2025-07-18T03:13:11.932695",
     "exception": false,
     "start_time": "2025-07-18T03:13:11.915210",
     "status": "completed"
    },
    "tags": []
   },
   "outputs": [
    {
     "data": {
      "application/javascript": [
       "parent.postMessage({\"jupyterEvent\": \"custom.exercise_interaction\", \"data\": {\"outcomeType\": 1, \"valueTowardsCompletion\": 0.25, \"interactionType\": 1, \"questionType\": 1, \"questionId\": \"1_PointsDtype\", \"learnToolsVersion\": \"0.3.5\", \"failureMessage\": \"\", \"exceptionClass\": \"\", \"trace\": \"\"}}, \"*\")"
      ],
      "text/plain": [
       "<IPython.core.display.Javascript object>"
      ]
     },
     "metadata": {},
     "output_type": "display_data"
    },
    {
     "data": {
      "text/markdown": [
       "<span style=\"color:#33cc33\">Correct</span>"
      ],
      "text/plain": [
       "Correct"
      ]
     },
     "metadata": {},
     "output_type": "display_data"
    }
   ],
   "source": [
    "# Your code here\n",
    "dtype = reviews.points.dtype\n",
    "\n",
    "# Check your answer\n",
    "q1.check()"
   ]
  },
  {
   "cell_type": "code",
   "execution_count": 3,
   "id": "9846d277",
   "metadata": {
    "execution": {
     "iopub.execute_input": "2025-07-18T03:13:11.941753Z",
     "iopub.status.busy": "2025-07-18T03:13:11.941400Z",
     "iopub.status.idle": "2025-07-18T03:13:11.946360Z",
     "shell.execute_reply": "2025-07-18T03:13:11.945034Z"
    },
    "papermill": {
     "duration": 0.011493,
     "end_time": "2025-07-18T03:13:11.948101",
     "exception": false,
     "start_time": "2025-07-18T03:13:11.936608",
     "status": "completed"
    },
    "tags": []
   },
   "outputs": [],
   "source": [
    "#q1.hint()\n",
    "#q1.solution()"
   ]
  },
  {
   "cell_type": "markdown",
   "id": "ea20421b",
   "metadata": {
    "papermill": {
     "duration": 0.003564,
     "end_time": "2025-07-18T03:13:11.955712",
     "exception": false,
     "start_time": "2025-07-18T03:13:11.952148",
     "status": "completed"
    },
    "tags": []
   },
   "source": [
    "## 2. \n",
    "Create a Series from entries in the `points` column, but convert the entries to strings. Hint: strings are `str` in native Python."
   ]
  },
  {
   "cell_type": "code",
   "execution_count": 4,
   "id": "a017793e",
   "metadata": {
    "execution": {
     "iopub.execute_input": "2025-07-18T03:13:11.964370Z",
     "iopub.status.busy": "2025-07-18T03:13:11.963974Z",
     "iopub.status.idle": "2025-07-18T03:13:12.009430Z",
     "shell.execute_reply": "2025-07-18T03:13:12.008391Z"
    },
    "papermill": {
     "duration": 0.051748,
     "end_time": "2025-07-18T03:13:12.011082",
     "exception": false,
     "start_time": "2025-07-18T03:13:11.959334",
     "status": "completed"
    },
    "tags": []
   },
   "outputs": [
    {
     "data": {
      "application/javascript": [
       "parent.postMessage({\"jupyterEvent\": \"custom.exercise_interaction\", \"data\": {\"outcomeType\": 1, \"valueTowardsCompletion\": 0.25, \"interactionType\": 1, \"questionType\": 1, \"questionId\": \"2_StrPoints\", \"learnToolsVersion\": \"0.3.5\", \"failureMessage\": \"\", \"exceptionClass\": \"\", \"trace\": \"\"}}, \"*\")"
      ],
      "text/plain": [
       "<IPython.core.display.Javascript object>"
      ]
     },
     "metadata": {},
     "output_type": "display_data"
    },
    {
     "data": {
      "text/markdown": [
       "<span style=\"color:#33cc33\">Correct</span>"
      ],
      "text/plain": [
       "Correct"
      ]
     },
     "metadata": {},
     "output_type": "display_data"
    }
   ],
   "source": [
    "point_strings = reviews.points.astype('str')\n",
    "\n",
    "\n",
    "# Check your answer\n",
    "q2.check()"
   ]
  },
  {
   "cell_type": "code",
   "execution_count": 5,
   "id": "df2ff3bf",
   "metadata": {
    "execution": {
     "iopub.execute_input": "2025-07-18T03:13:12.021474Z",
     "iopub.status.busy": "2025-07-18T03:13:12.021140Z",
     "iopub.status.idle": "2025-07-18T03:13:12.025804Z",
     "shell.execute_reply": "2025-07-18T03:13:12.024641Z"
    },
    "papermill": {
     "duration": 0.011668,
     "end_time": "2025-07-18T03:13:12.027846",
     "exception": false,
     "start_time": "2025-07-18T03:13:12.016178",
     "status": "completed"
    },
    "tags": []
   },
   "outputs": [],
   "source": [
    "#q2.hint()\n",
    "#q2.solution()"
   ]
  },
  {
   "cell_type": "markdown",
   "id": "8ef7b379",
   "metadata": {
    "papermill": {
     "duration": 0.003862,
     "end_time": "2025-07-18T03:13:12.035931",
     "exception": false,
     "start_time": "2025-07-18T03:13:12.032069",
     "status": "completed"
    },
    "tags": []
   },
   "source": [
    "## 3.\n",
    "Sometimes the price column is null. How many reviews in the dataset are missing a price?"
   ]
  },
  {
   "cell_type": "code",
   "execution_count": 6,
   "id": "5104abdd",
   "metadata": {
    "execution": {
     "iopub.execute_input": "2025-07-18T03:13:12.045218Z",
     "iopub.status.busy": "2025-07-18T03:13:12.044890Z",
     "iopub.status.idle": "2025-07-18T03:13:12.054046Z",
     "shell.execute_reply": "2025-07-18T03:13:12.053067Z"
    },
    "papermill": {
     "duration": 0.015734,
     "end_time": "2025-07-18T03:13:12.055714",
     "exception": false,
     "start_time": "2025-07-18T03:13:12.039980",
     "status": "completed"
    },
    "tags": []
   },
   "outputs": [
    {
     "data": {
      "application/javascript": [
       "parent.postMessage({\"jupyterEvent\": \"custom.exercise_interaction\", \"data\": {\"outcomeType\": 1, \"valueTowardsCompletion\": 0.25, \"interactionType\": 1, \"questionType\": 1, \"questionId\": \"3_CountMissingPrices\", \"learnToolsVersion\": \"0.3.5\", \"failureMessage\": \"\", \"exceptionClass\": \"\", \"trace\": \"\"}}, \"*\")"
      ],
      "text/plain": [
       "<IPython.core.display.Javascript object>"
      ]
     },
     "metadata": {},
     "output_type": "display_data"
    },
    {
     "data": {
      "text/markdown": [
       "<span style=\"color:#33cc33\">Correct</span>"
      ],
      "text/plain": [
       "Correct"
      ]
     },
     "metadata": {},
     "output_type": "display_data"
    }
   ],
   "source": [
    "n_missing_prices = pd.isnull(reviews.price).sum()\n",
    "\n",
    "# Check your answer\n",
    "q3.check()"
   ]
  },
  {
   "cell_type": "code",
   "execution_count": 7,
   "id": "b44d4067",
   "metadata": {
    "execution": {
     "iopub.execute_input": "2025-07-18T03:13:12.065400Z",
     "iopub.status.busy": "2025-07-18T03:13:12.065027Z",
     "iopub.status.idle": "2025-07-18T03:13:12.069835Z",
     "shell.execute_reply": "2025-07-18T03:13:12.068737Z"
    },
    "papermill": {
     "duration": 0.011719,
     "end_time": "2025-07-18T03:13:12.071534",
     "exception": false,
     "start_time": "2025-07-18T03:13:12.059815",
     "status": "completed"
    },
    "tags": []
   },
   "outputs": [],
   "source": [
    "# q3.hint()\n",
    "# q3.solution()"
   ]
  },
  {
   "cell_type": "markdown",
   "id": "806023fb",
   "metadata": {
    "papermill": {
     "duration": 0.00369,
     "end_time": "2025-07-18T03:13:12.079339",
     "exception": false,
     "start_time": "2025-07-18T03:13:12.075649",
     "status": "completed"
    },
    "tags": []
   },
   "source": [
    "## 4.\n",
    "What are the most common wine-producing regions? Create a Series counting the number of times each value occurs in the `region_1` field. This field is often missing data, so replace missing values with `Unknown`. Sort in descending order.  Your output should look something like this:\n",
    "\n",
    "```\n",
    "Unknown                    21247\n",
    "Napa Valley                 4480\n",
    "                           ...  \n",
    "Bardolino Superiore            1\n",
    "Primitivo del Tarantino        1\n",
    "Name: region_1, Length: 1230, dtype: int64\n",
    "```"
   ]
  },
  {
   "cell_type": "code",
   "execution_count": 8,
   "id": "9ff73e5d",
   "metadata": {
    "execution": {
     "iopub.execute_input": "2025-07-18T03:13:12.088829Z",
     "iopub.status.busy": "2025-07-18T03:13:12.088440Z",
     "iopub.status.idle": "2025-07-18T03:13:12.141183Z",
     "shell.execute_reply": "2025-07-18T03:13:12.140097Z"
    },
    "papermill": {
     "duration": 0.059427,
     "end_time": "2025-07-18T03:13:12.142714",
     "exception": false,
     "start_time": "2025-07-18T03:13:12.083287",
     "status": "completed"
    },
    "tags": []
   },
   "outputs": [
    {
     "data": {
      "application/javascript": [
       "parent.postMessage({\"jupyterEvent\": \"custom.exercise_interaction\", \"data\": {\"outcomeType\": 1, \"valueTowardsCompletion\": 0.25, \"interactionType\": 1, \"questionType\": 2, \"questionId\": \"4_ReviewsPerRegion\", \"learnToolsVersion\": \"0.3.5\", \"failureMessage\": \"\", \"exceptionClass\": \"\", \"trace\": \"\"}}, \"*\")"
      ],
      "text/plain": [
       "<IPython.core.display.Javascript object>"
      ]
     },
     "metadata": {},
     "output_type": "display_data"
    },
    {
     "data": {
      "text/markdown": [
       "<span style=\"color:#33cc33\">Correct</span>"
      ],
      "text/plain": [
       "Correct"
      ]
     },
     "metadata": {},
     "output_type": "display_data"
    }
   ],
   "source": [
    "reviews_per_region = reviews.region_1.fillna(\"Unknown\").value_counts().sort_values(ascending=False)\n",
    "\n",
    "# Check your answer\n",
    "q4.check()"
   ]
  },
  {
   "cell_type": "code",
   "execution_count": 9,
   "id": "e2db30c1",
   "metadata": {
    "execution": {
     "iopub.execute_input": "2025-07-18T03:13:12.152616Z",
     "iopub.status.busy": "2025-07-18T03:13:12.152190Z",
     "iopub.status.idle": "2025-07-18T03:13:12.156399Z",
     "shell.execute_reply": "2025-07-18T03:13:12.155494Z"
    },
    "papermill": {
     "duration": 0.011114,
     "end_time": "2025-07-18T03:13:12.157897",
     "exception": false,
     "start_time": "2025-07-18T03:13:12.146783",
     "status": "completed"
    },
    "tags": []
   },
   "outputs": [],
   "source": [
    "# q4.hint()\n",
    "# q4.solution()"
   ]
  },
  {
   "cell_type": "markdown",
   "id": "8780c66d",
   "metadata": {
    "papermill": {
     "duration": 0.003805,
     "end_time": "2025-07-18T03:13:12.166144",
     "exception": false,
     "start_time": "2025-07-18T03:13:12.162339",
     "status": "completed"
    },
    "tags": []
   },
   "source": [
    "# Keep going\n",
    "\n",
    "Move on to **[renaming and combining](https://www.kaggle.com/residentmario/renaming-and-combining)**."
   ]
  },
  {
   "cell_type": "markdown",
   "id": "6de592d5",
   "metadata": {
    "papermill": {
     "duration": 0.003622,
     "end_time": "2025-07-18T03:13:12.173766",
     "exception": false,
     "start_time": "2025-07-18T03:13:12.170144",
     "status": "completed"
    },
    "tags": []
   },
   "source": [
    "---\n",
    "\n",
    "\n",
    "\n",
    "\n",
    "*Have questions or comments? Visit the [course discussion forum](https://www.kaggle.com/learn/pandas/discussion) to chat with other learners.*"
   ]
  }
 ],
 "metadata": {
  "kaggle": {
   "accelerator": "none",
   "dataSources": [
    {
     "datasetId": 655,
     "sourceId": 1252,
     "sourceType": "datasetVersion"
    },
    {
     "datasetId": 2321,
     "sourceId": 3919,
     "sourceType": "datasetVersion"
    },
    {
     "datasetId": 2894,
     "sourceId": 4877,
     "sourceType": "datasetVersion"
    },
    {
     "datasetId": 3491,
     "sourceId": 5624,
     "sourceType": "datasetVersion"
    },
    {
     "datasetId": 1442,
     "sourceId": 8172,
     "sourceType": "datasetVersion"
    },
    {
     "datasetId": 9366,
     "sourceId": 13206,
     "sourceType": "datasetVersion"
    },
    {
     "datasetId": 179555,
     "sourceId": 403916,
     "sourceType": "datasetVersion"
    },
    {
     "datasetId": 4549,
     "sourceId": 466349,
     "sourceType": "datasetVersion"
    },
    {
     "datasetId": 2478,
     "sourceId": 1151655,
     "sourceType": "datasetVersion"
    },
    {
     "datasetId": 10128,
     "sourceId": 5438389,
     "sourceType": "datasetVersion"
    }
   ],
   "isGpuEnabled": false,
   "isInternetEnabled": false,
   "language": "python",
   "sourceType": "notebook"
  },
  "kernelspec": {
   "display_name": "Python 3",
   "language": "python",
   "name": "python3"
  },
  "language_info": {
   "codemirror_mode": {
    "name": "ipython",
    "version": 3
   },
   "file_extension": ".py",
   "mimetype": "text/x-python",
   "name": "python",
   "nbconvert_exporter": "python",
   "pygments_lexer": "ipython3",
   "version": "3.11.13"
  },
  "papermill": {
   "default_parameters": {},
   "duration": 11.940244,
   "end_time": "2025-07-18T03:13:12.900391",
   "environment_variables": {},
   "exception": null,
   "input_path": "__notebook__.ipynb",
   "output_path": "__notebook__.ipynb",
   "parameters": {},
   "start_time": "2025-07-18T03:13:00.960147",
   "version": "2.6.0"
  }
 },
 "nbformat": 4,
 "nbformat_minor": 5
}
